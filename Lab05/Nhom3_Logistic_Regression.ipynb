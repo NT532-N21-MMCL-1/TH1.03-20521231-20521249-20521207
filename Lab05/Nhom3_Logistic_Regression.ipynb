{
  "cells": [
    {
      "cell_type": "markdown",
      "id": "882b8134",
      "metadata": {
        "id": "882b8134"
      },
      "source": [
        "# NT532 - CÔNG NGHỆ INTERNET OF THINGS HIỆN ĐẠI\n",
        "\n",
        "**Hướng dẫn**:\n",
        "*   Khởi động runtime: chọn **Connect** tại góc trên bên phải.\n",
        "*   Hoàn thành tất cả các mục có comment `YOUR CODE HERE` và các câu hỏi được thể hiện.\n",
        "*   Chạy toàn bộ các block code để kiểm tra: Ở thanh menu, chọn Runtime$\\rightarrow$Run all."
      ]
    },
    {
      "cell_type": "markdown",
      "id": "25365366",
      "metadata": {
        "id": "25365366"
      },
      "source": [
        "---"
      ]
    },
    {
      "cell_type": "markdown",
      "id": "32d8e798-415f-437f-9595-395432d2f6ea",
      "metadata": {
        "deletable": false,
        "editable": false,
        "nbgrader": {
          "cell_type": "markdown",
          "checksum": "92ac8d025f725d001eb6f3d2583eb277",
          "grade": false,
          "grade_id": "cell-cd8ada6364a44dde",
          "locked": true,
          "schema_version": 3,
          "solution": false,
          "task": false
        },
        "tags": [],
        "id": "32d8e798-415f-437f-9595-395432d2f6ea"
      },
      "source": [
        "# PHẦN 1: CÀI ĐẶT MÔ HÌNH LOGISTIC REGRESSION VỚI KERAS"
      ]
    },
    {
      "cell_type": "markdown",
      "id": "498cd880-c80c-4d9a-9ca8-bff003cf2ae6",
      "metadata": {
        "deletable": false,
        "editable": false,
        "nbgrader": {
          "cell_type": "markdown",
          "checksum": "91058848e4d8a35e61983b4fd9e493de",
          "grade": false,
          "grade_id": "cell-449bbee0eee23e80",
          "locked": true,
          "schema_version": 3,
          "solution": false,
          "task": false
        },
        "tags": [],
        "id": "498cd880-c80c-4d9a-9ca8-bff003cf2ae6"
      },
      "source": [
        "## 1. Import các thư viện Keras\n",
        "\n",
        "Đầu tiên, chúng ta sẽ import các thư viện, module, hàm của `Keras`:\n",
        "- `Input`: để nhận dữ liệu đầu vào cho mô hình.\n",
        "- `Dense`: hay còn gọi là lớp Fully Connected (Lớp kết nối đầy đủ), một thành phần quan trọng của các mô hình dựa trên mạng Neural Network.\n",
        "- `Model`: đây là lớp đối tượng mô hình được sử dụng để đóng gói lớp đầu vào, đầu ra, sau đó huấn luyện với phương thức `fit` và dự đoán kết quả với `predict`.\n",
        "- `load_model`: hàm sử dụng để load mô hình lên từ file."
      ]
    },
    {
      "cell_type": "code",
      "execution_count": null,
      "id": "1f4b4acb-157f-4309-96de-b8e7b01f6506",
      "metadata": {
        "deletable": false,
        "editable": false,
        "nbgrader": {
          "cell_type": "code",
          "checksum": "362deb48b42f34099c7bf7f0cf350fb3",
          "grade": false,
          "grade_id": "cell-57c79d33953aeef2",
          "locked": true,
          "schema_version": 3,
          "solution": false,
          "task": false
        },
        "tags": [],
        "id": "1f4b4acb-157f-4309-96de-b8e7b01f6506"
      },
      "outputs": [],
      "source": [
        "from keras.layers import Input, Dense\n",
        "from keras import Model\n",
        "import tensorflow as tf\n",
        "from keras.models import load_model\n",
        "import seaborn as sns"
      ]
    },
    {
      "cell_type": "markdown",
      "source": [
        "## 2. Tạo dữ liệu mẫu (toy example)\n",
        "Bước tiếp theo, ta sẽ tiến hành tạo dữ liệu mẫu để huấn luyện và kiểm thử.\n",
        "\n",
        "Giả sử rằng dữ liệu được tạo ra xoay quanh 2 điểm tâm cho trước, cụ thể:\n",
        "- [1, 6]\n",
        "- [6, 1]\n",
        "\n",
        "Hai điểm này có đặc điểm đủ cách xa nhau để các điểm khác được sinh ra xung quanh 2 điểm này không giao thoa với nhau. Đảm bảo được độ chính xác cũng như ổn định của mô hình."
      ],
      "metadata": {
        "id": "_LAyE_x_tQIg"
      },
      "id": "_LAyE_x_tQIg"
    },
    {
      "cell_type": "code",
      "source": [
        "import numpy as np\n",
        "import matplotlib.pyplot as plt\n",
        "\n",
        "# Số lượng điểm dữ liệu tại mỗi cụm\n",
        "n_sample = 20\n",
        "\n",
        "# Tạo bộ dữ liệu gồm 2 tập đỏ và xanh:\n",
        "# Tạo 2 tập xanh và đỏ được tạo xoay quanh điểm (1,6) và (6,1) một cách ngẫu nhiên\n",
        "# Kết hợp 2 tập này trở thành `x_train` và `y_train` (sử dụng numpy.concatenate)\n",
        "#tọa độ điểm đỏ là (1,6) va điểm xanh là (1,6)\n",
        "red_points = np.random.randn(n_sample, 2) + np.array([1, 6])\n",
        "blue_points = np.random.randn(n_sample, 2) + np.array([6, 1])\n",
        "\n",
        "x_train = np.concatenate([red_points, blue_points])\n",
        "y_train = np.concatenate([np.zeros(n_sample), np.ones(n_sample)])\n",
        "\n",
        "# Tương tụ như ở trên, tạo tập dữ liệu validation:\n",
        "red_points_test = np.random.randn(n_sample, 2) + np.array([1, 6])\n",
        "blue_points_test = np.random.randn(n_sample, 2) + np.array([6, 1])\n",
        "\n",
        "x_test = np.concatenate([red_points_test, blue_points_test])\n",
        "y_test = np.concatenate([np.zeros(n_sample), np.ones(n_sample)])\n",
        "\n",
        "# Trực quan hóa dữ liệu bằng biểu đồ được thể hiện dưới dạng các chấm tròn đỏ, xanh\n",
        "plt.plot(red_points[:,0], red_points[:,1], 'ro')\n",
        "plt.plot(blue_points[:,0], blue_points[:,1], 'bo')\n",
        "plt.plot()\n"
      ],
      "metadata": {
        "id": "05hef2hUt6cB",
        "colab": {
          "base_uri": "https://localhost:8080/",
          "height": 448
        },
        "outputId": "1f23f8a9-db35-4374-8776-72f08f85611e"
      },
      "id": "05hef2hUt6cB",
      "execution_count": null,
      "outputs": [
        {
          "output_type": "execute_result",
          "data": {
            "text/plain": [
              "[]"
            ]
          },
          "metadata": {},
          "execution_count": 4
        },
        {
          "output_type": "display_data",
          "data": {
            "text/plain": [
              "<Figure size 640x480 with 1 Axes>"
            ],
            "image/png": "[encoded data removed]"
          },
          "metadata": {}
        }
      ]
    },
    {
      "cell_type": "markdown",
      "id": "04a833c1-4990-489c-bbac-968b578eac39",
      "metadata": {
        "deletable": false,
        "editable": false,
        "nbgrader": {
          "cell_type": "markdown",
          "checksum": "45e9e06440c105152f463718fff57b20",
          "grade": false,
          "grade_id": "cell-f72ad50b2c988c98",
          "locked": true,
          "schema_version": 3,
          "solution": false,
          "task": false
        },
        "tags": [],
        "id": "04a833c1-4990-489c-bbac-968b578eac39"
      },
      "source": [
        "## 3. Cài đặt mô hình Logistic Regression\n",
        "Logistic Regression: mô hình hồi quy luận lý là một mô hình cơ bản được sinh ra để giải quyết bài toán phân lớp nhị phân.\n",
        "\n",
        "Tại đây, chúng ta sẽ tiến hành định nghĩa mô hình Logistic Regression dựa trên các đối tượng được cung cấp bởi Keras. Các nội dung này sinh viên cần tìm hiểu ý nghĩa, cách thức sử dụng để hiểu được nội dung được định nghĩa.\n",
        "\n",
        "<p align=\"center\">\n",
        "  <img src=\"https://mlcorner.com/wp-content/uploads/2020/10/Screenshot-2020-10-09-at-15.26.55.png\" />\n",
        "</p>"
      ]
    },
    {
      "cell_type": "code",
      "source": [
        "# Tìm hiểu đối với bài toán Logistic Regression, hệ số `imput_dim` bằng bao nhiêu? Giải thích.\n",
        "#Trả lời: trong bài toán logistics Regression hệ số input_dim = 2 do input_dim sẽ tương ứng với số hệ số đầu vào của bài toán, trong bài toán này là 2 biến tọa độ x,y\n",
        "# YOUR CODE HERE\n",
        "\n",
        "\n",
        "input_dim = 2\n",
        "\n",
        "# Tương tự như cách cài đặt Linear Regression,tuy nhiên có sự khác kh au khi cài đặt tại tham số activation\n",
        "# Tìm ra điểm khác nhau và giải thích về sự khác nhau này từ việc tìm hiểu về Logistic Regression\n",
        "\n",
        "input = Input(shape = input_dim)\n",
        "\n",
        "\n",
        "\n",
        "\n",
        "output = output = Dense(1, activation='sigmoid')(input)\n",
        "\n",
        "\n",
        "# Để hiển thị kiến trúc của mô hình ta gọi phương thức `summary`\n",
        "print(\"The architecture of Linear Regression model: \")\n",
        "\n",
        "\n",
        "LogisticRegression = Model(input, output)\n",
        "\n",
        "# Để hiển thị kiến trúc của mô hình ta gọi phương thức `summary`\n",
        "print(\"The architecture of Logistic Regression model: \")\n",
        "LogisticRegression.summary()"
      ],
      "metadata": {
        "id": "dgqiYXfPwPo6",
        "colab": {
          "base_uri": "https://localhost:8080/"
        },
        "outputId": "9f2e9f9b-1afe-4d0b-c7ee-30c4cbc808fb"
      },
      "id": "dgqiYXfPwPo6",
      "execution_count": null,
      "outputs": [
        {
          "output_type": "stream",
          "name": "stdout",
          "text": [
            "The architecture of Linear Regression model: \n",
            "The architecture of Logistic Regression model: \n",
            "Model: \"model\"\n",
            "_________________________________________________________________\n",
            " Layer (type)                Output Shape              Param #   \n",
            "=================================================================\n",
            " input_1 (InputLayer)        [(None, 2)]               0         \n",
            "                                                                 \n",
            " dense (Dense)               (None, 1)                 3         \n",
            "                                                                 \n",
            "=================================================================\n",
            "Total params: 3\n",
            "Trainable params: 3\n",
            "Non-trainable params: 0\n",
            "_________________________________________________________________\n"
          ]
        }
      ]
    },
    {
      "cell_type": "code",
      "source": [
        "x_train, y_train"
      ],
      "metadata": {
        "colab": {
          "base_uri": "https://localhost:8080/"
        },
        "id": "8fiHzJ2uCNSW",
        "outputId": "e2ca7b48-736a-40c6-9f79-8969d0fe11ea"
      },
      "id": "8fiHzJ2uCNSW",
      "execution_count": null,
      "outputs": [
        {
          "output_type": "execute_result",
          "data": {
            "text/plain": [
              "(array([[ 2.62434536,  5.38824359],\n",
              "        [ 0.47182825,  4.92703138],\n",
              "        [ 1.86540763,  3.6984613 ],\n",
              "        [ 2.74481176,  5.2387931 ],\n",
              "        [ 1.3190391 ,  5.75062962],\n",
              "        [ 2.46210794,  3.93985929],\n",
              "        [ 0.6775828 ,  5.61594565],\n",
              "        [ 2.13376944,  4.90010873],\n",
              "        [ 0.82757179,  5.12214158],\n",
              "        [ 1.04221375,  6.58281521],\n",
              "        [-0.10061918,  7.14472371],\n",
              "        [ 1.90159072,  6.50249434],\n",
              "        [ 1.90085595,  5.31627214],\n",
              "        [ 0.87710977,  5.06423057],\n",
              "        [ 0.73211192,  6.53035547],\n",
              "        [ 0.30833925,  5.60324647],\n",
              "        [ 0.3128273 ,  5.15479436],\n",
              "        [ 0.32875387,  5.9873354 ],\n",
              "        [-0.11731035,  6.2344157 ],\n",
              "        [ 2.65980218,  6.74204416]]),\n",
              " array([[ 5.80816445,  0.11237104],\n",
              "        [ 5.25284171,  2.6924546 ],\n",
              "        [ 6.05080775,  0.36300435],\n",
              "        [ 6.19091548,  3.10025514],\n",
              "        [ 6.12015895,  1.61720311],\n",
              "        [ 6.30017032,  0.64775015],\n",
              "        [ 4.8574818 ,  0.65065728],\n",
              "        [ 5.79110577,  1.58662319],\n",
              "        [ 6.83898341,  1.93110208],\n",
              "        [ 6.28558733,  1.88514116],\n",
              "        [ 5.24560206,  2.25286816],\n",
              "        [ 6.51292982,  0.70190716],\n",
              "        [ 6.48851815,  0.92442829],\n",
              "        [ 7.13162939,  2.51981682],\n",
              "        [ 8.18557541, -0.39649634],\n",
              "        [ 4.55588619,  0.49553414],\n",
              "        [ 6.16003707,  1.87616892],\n",
              "        [ 6.31563495, -1.02220122],\n",
              "        [ 5.69379599,  1.82797464],\n",
              "        [ 6.23009474,  1.76201118]]))"
            ]
          },
          "metadata": {},
          "execution_count": 4
        }
      ]
    },
    {
      "cell_type": "code",
      "source": [
        "opt = tf.keras.optimizers.SGD(learning_rate=0.1) # Stochastic Gradient Descent\n",
        "\n",
        "# Loss function được sử dụng trong Linear Regression là gì?\n",
        "# YOUR CODE HERE\n",
        "loss = \"binary_crossentropy\"\n",
        "\n",
        "LogisticRegression.compile(optimizer=opt, loss=loss)\n",
        "\n",
        "# Huấn luyện với 50 epochs\n",
        "hist = LogisticRegression.fit(x_train, y_train, epochs=50)"
      ],
      "metadata": {
        "id": "Ke1qXApyxqQE",
        "colab": {
          "base_uri": "https://localhost:8080/"
        },
        "outputId": "0eed716d-9a75-4e3a-c4cc-c5de7d9478a4"
      },
      "id": "Ke1qXApyxqQE",
      "execution_count": null,
      "outputs": [
        {
          "output_type": "stream",
          "name": "stdout",
          "text": [
            "Epoch 1/50\n",
            "2/2 [==============================] - 1s 15ms/step - loss: 5.4387\n",
            "Epoch 2/50\n",
            "2/2 [==============================] - 0s 12ms/step - loss: 2.9944\n",
            "Epoch 3/50\n",
            "2/2 [==============================] - 0s 9ms/step - loss: 1.1198\n",
            "Epoch 4/50\n",
            "2/2 [==============================] - 0s 9ms/step - loss: 0.4196\n",
            "Epoch 5/50\n",
            "2/2 [==============================] - 0s 8ms/step - loss: 0.2219\n",
            "Epoch 6/50\n",
            "2/2 [==============================] - 0s 8ms/step - loss: 0.1536\n",
            "Epoch 7/50\n",
            "2/2 [==============================] - 0s 8ms/step - loss: 0.1211\n",
            "Epoch 8/50\n",
            "2/2 [==============================] - 0s 9ms/step - loss: 0.1013\n",
            "Epoch 9/50\n",
            "2/2 [==============================] - 0s 8ms/step - loss: 0.0875\n",
            "Epoch 10/50\n",
            "2/2 [==============================] - 0s 9ms/step - loss: 0.0771\n",
            "Epoch 11/50\n",
            "2/2 [==============================] - 0s 8ms/step - loss: 0.0695\n",
            "Epoch 12/50\n",
            "2/2 [==============================] - 0s 10ms/step - loss: 0.0629\n",
            "Epoch 13/50\n",
            "2/2 [==============================] - 0s 8ms/step - loss: 0.0575\n",
            "Epoch 14/50\n",
            "2/2 [==============================] - 0s 9ms/step - loss: 0.0529\n",
            "Epoch 15/50\n",
            "2/2 [==============================] - 0s 8ms/step - loss: 0.0495\n",
            "Epoch 16/50\n",
            "2/2 [==============================] - 0s 9ms/step - loss: 0.0462\n",
            "Epoch 17/50\n",
            "2/2 [==============================] - 0s 9ms/step - loss: 0.0435\n",
            "Epoch 18/50\n",
            "2/2 [==============================] - 0s 10ms/step - loss: 0.0410\n",
            "Epoch 19/50\n",
            "2/2 [==============================] - 0s 8ms/step - loss: 0.0390\n",
            "Epoch 20/50\n",
            "2/2 [==============================] - 0s 8ms/step - loss: 0.0372\n",
            "Epoch 21/50\n",
            "2/2 [==============================] - 0s 9ms/step - loss: 0.0353\n",
            "Epoch 22/50\n",
            "2/2 [==============================] - 0s 9ms/step - loss: 0.0334\n",
            "Epoch 23/50\n",
            "2/2 [==============================] - 0s 11ms/step - loss: 0.0319\n",
            "Epoch 24/50\n",
            "2/2 [==============================] - 0s 13ms/step - loss: 0.0306\n",
            "Epoch 25/50\n",
            "2/2 [==============================] - 0s 10ms/step - loss: 0.0295\n",
            "Epoch 26/50\n",
            "2/2 [==============================] - 0s 12ms/step - loss: 0.0284\n",
            "Epoch 27/50\n",
            "2/2 [==============================] - 0s 8ms/step - loss: 0.0274\n",
            "Epoch 28/50\n",
            "2/2 [==============================] - 0s 9ms/step - loss: 0.0266\n",
            "Epoch 29/50\n",
            "2/2 [==============================] - 0s 10ms/step - loss: 0.0256\n",
            "Epoch 30/50\n",
            "2/2 [==============================] - 0s 9ms/step - loss: 0.0247\n",
            "Epoch 31/50\n",
            "2/2 [==============================] - 0s 8ms/step - loss: 0.0239\n",
            "Epoch 32/50\n",
            "2/2 [==============================] - 0s 8ms/step - loss: 0.0232\n",
            "Epoch 33/50\n",
            "2/2 [==============================] - 0s 9ms/step - loss: 0.0226\n",
            "Epoch 34/50\n",
            "2/2 [==============================] - 0s 9ms/step - loss: 0.0219\n",
            "Epoch 35/50\n",
            "2/2 [==============================] - 0s 10ms/step - loss: 0.0213\n",
            "Epoch 36/50\n",
            "2/2 [==============================] - 0s 10ms/step - loss: 0.0209\n",
            "Epoch 37/50\n",
            "2/2 [==============================] - 0s 9ms/step - loss: 0.0204\n",
            "Epoch 38/50\n",
            "2/2 [==============================] - 0s 9ms/step - loss: 0.0199\n",
            "Epoch 39/50\n",
            "2/2 [==============================] - 0s 8ms/step - loss: 0.0195\n",
            "Epoch 40/50\n",
            "2/2 [==============================] - 0s 9ms/step - loss: 0.0191\n",
            "Epoch 41/50\n",
            "2/2 [==============================] - 0s 8ms/step - loss: 0.0186\n",
            "Epoch 42/50\n",
            "2/2 [==============================] - 0s 8ms/step - loss: 0.0182\n",
            "Epoch 43/50\n",
            "2/2 [==============================] - 0s 8ms/step - loss: 0.0178\n",
            "Epoch 44/50\n",
            "2/2 [==============================] - 0s 8ms/step - loss: 0.0175\n",
            "Epoch 45/50\n",
            "2/2 [==============================] - 0s 8ms/step - loss: 0.0172\n",
            "Epoch 46/50\n",
            "2/2 [==============================] - 0s 8ms/step - loss: 0.0168\n",
            "Epoch 47/50\n",
            "2/2 [==============================] - 0s 9ms/step - loss: 0.0165\n",
            "Epoch 48/50\n",
            "2/2 [==============================] - 0s 9ms/step - loss: 0.0161\n",
            "Epoch 49/50\n",
            "2/2 [==============================] - 0s 9ms/step - loss: 0.0158\n",
            "Epoch 50/50\n",
            "2/2 [==============================] - 0s 7ms/step - loss: 0.0155\n"
          ]
        }
      ]
    },
    {
      "cell_type": "code",
      "execution_count": null,
      "id": "44d04e58-792d-40e7-b4c5-01b4e0a582df",
      "metadata": {
        "deletable": false,
        "editable": false,
        "nbgrader": {
          "cell_type": "code",
          "checksum": "1eee35f30b79c20b3d1e1879203a74fb",
          "grade": false,
          "grade_id": "cell-410570417a6e9fdd",
          "locked": true,
          "schema_version": 3,
          "solution": false,
          "task": false
        },
        "tags": [],
        "id": "44d04e58-792d-40e7-b4c5-01b4e0a582df",
        "colab": {
          "base_uri": "https://localhost:8080/",
          "height": 472
        },
        "outputId": "0c941a81-d3f6-4e3a-ee8c-14b339f664c7"
      },
      "outputs": [
        {
          "output_type": "display_data",
          "data": {
            "text/plain": [
              "<Figure size 640x480 with 1 Axes>"
            ],
            "image/png": "[encoded data removed]"
          },
          "metadata": {}
        }
      ],
      "source": [
        "# Hiển thị loss theo số epoch\n",
        "plt.plot(hist.history['loss'])\n",
        "plt.title('Model Loss')\n",
        "plt.ylabel('loss')\n",
        "plt.xlabel('epoch')\n",
        "plt.show()"
      ]
    },
    {
      "cell_type": "markdown",
      "source": [
        "## 4. Lưu trữ và tái sử dụng model\n",
        "Sau khi đã huấn luyện, ta lưu mô hình để có thể tái sử dụng trong tương lai. \n",
        "\n",
        "Sử dụng phương phương thức `save` để lưu trữ mô hình và `load_model` để tải lại mô hình và tái sử dụng. \n",
        "\n",
        "Điều này có thể áp dụng để sử dụng mô hình trong tương lai mà **KHÔNG CẦN PHẢI HUẤN LUYỆN LẠI**."
      ],
      "metadata": {
        "id": "4fIxKkbo2k0R"
      },
      "id": "4fIxKkbo2k0R"
    },
    {
      "cell_type": "code",
      "execution_count": null,
      "id": "3fb633a4-92b1-4d1d-a189-df8b64bca31d",
      "metadata": {
        "deletable": false,
        "editable": false,
        "nbgrader": {
          "cell_type": "code",
          "checksum": "010501af07b903cc29debee92b93c433",
          "grade": false,
          "grade_id": "cell-bbe1e1b3f7109f67",
          "locked": true,
          "schema_version": 3,
          "solution": false,
          "task": false
        },
        "tags": [],
        "id": "3fb633a4-92b1-4d1d-a189-df8b64bca31d"
      },
      "outputs": [],
      "source": [
        "LogisticRegression.save('logistic_regression_model.h5')\n",
        "\n",
        "pretrain_LogisticRegression = load_model('logistic_regression_model.h5')"
      ]
    },
    {
      "cell_type": "code",
      "source": [
        "pretrain_LogisticRegression"
      ],
      "metadata": {
        "colab": {
          "base_uri": "https://localhost:8080/",
          "height": 171
        },
        "id": "4gXW5NYvCyHg",
        "outputId": "b4c2c4d2-7445-4727-e799-df539bf761d9"
      },
      "id": "4gXW5NYvCyHg",
      "execution_count": null,
      "outputs": [
        {
          "output_type": "error",
          "ename": "AttributeError",
          "evalue": "ignored",
          "traceback": [
            "\u001b[0;31m---------------------------------------------------------------------------\u001b[0m",
            "\u001b[0;31mAttributeError\u001b[0m                            Traceback (most recent call last)",
            "\u001b[0;32m<ipython-input-12-cb10304dee2d>\u001b[0m in \u001b[0;36m<cell line: 1>\u001b[0;34m()\u001b[0m\n\u001b[0;32m----> 1\u001b[0;31m \u001b[0mpretrain_LogisticRegression\u001b[0m\u001b[0;34m.\u001b[0m\u001b[0mshape\u001b[0m\u001b[0;34m\u001b[0m\u001b[0;34m\u001b[0m\u001b[0m\n\u001b[0m",
            "\u001b[0;31mAttributeError\u001b[0m: 'Functional' object has no attribute 'shape'"
          ]
        }
      ]
    },
    {
      "cell_type": "markdown",
      "id": "f3552f10-3e91-425d-b34f-b45da7d84a6c",
      "metadata": {
        "id": "f3552f10-3e91-425d-b34f-b45da7d84a6c"
      },
      "source": [
        "## 5. Trực quan hóa mô hình và dự đoán với dữ liệu test"
      ]
    },
    {
      "cell_type": "code",
      "source": [
        "pretrain_LogisticRegression.get_weights()"
      ],
      "metadata": {
        "colab": {
          "base_uri": "https://localhost:8080/"
        },
        "id": "mP5KKorSdZQo",
        "outputId": "b315d53f-db1e-4bc0-e54f-2662e84c9108"
      },
      "id": "mP5KKorSdZQo",
      "execution_count": null,
      "outputs": [
        {
          "output_type": "execute_result",
          "data": {
            "text/plain": [
              "[array([[-1.0134104],\n",
              "        [ 1.1500262]], dtype=float32),\n",
              " array([0.04552304], dtype=float32)]"
            ]
          },
          "metadata": {},
          "execution_count": 17
        }
      ]
    },
    {
      "cell_type": "code",
      "execution_count": null,
      "id": "dd9a079b-2dd4-49f6-b766-d16fe4358b55",
      "metadata": {
        "deletable": false,
        "editable": false,
        "nbgrader": {
          "cell_type": "code",
          "checksum": "2c2097c275f3544560771f910f88b18c",
          "grade": false,
          "grade_id": "cell-4c57bf1e1c1fe3c9",
          "locked": true,
          "schema_version": 3,
          "solution": false,
          "task": false
        },
        "tags": [],
        "id": "dd9a079b-2dd4-49f6-b766-d16fe4358b55",
        "colab": {
          "base_uri": "https://localhost:8080/"
        },
        "outputId": "36e3161b-3fee-4630-da66-3e95038467fb"
      },
      "outputs": [
        {
          "output_type": "stream",
          "name": "stdout",
          "text": [
            "Tham số tối ưu: \n",
            "Trong đó: \n",
            "   - bias (hệ số tự do) :  [0.01247832]\n",
            "   - theta1 (hệ số cho dữ liệu x1):  [-0.93938005]\n",
            "   - theta2 (hệ số cho dữ liệu x2):  [1.0750096]\n"
          ]
        }
      ],
      "source": [
        "result = pretrain_LogisticRegression.get_weights()\n",
        "print('Tham số tối ưu: ')\n",
        "\n",
        "# Tương tự như Logistic Regression, tiến hành tìm hiểu và in ra các hệ số học tập được thông qua quá trình huấn luyện\n",
        "# YOUR CODE HERE\n",
        "theta2= result[0][0]\n",
        "theta1 = result[0][1]\n",
        "bias= result[1]\n",
        "\n",
        "\n",
        "print('Trong đó: ')\n",
        "print('   - bias (hệ số tự do) : ', bias)\n",
        "print('   - theta1 (hệ số cho dữ liệu x1): ', theta1)\n",
        "print('   - theta2 (hệ số cho dữ liệu x2): ', theta2)"
      ]
    },
    {
      "cell_type": "code",
      "execution_count": null,
      "id": "6d32360d-f18c-4c90-85af-1a4df14d8ae6",
      "metadata": {
        "deletable": false,
        "editable": false,
        "nbgrader": {
          "cell_type": "code",
          "checksum": "f4f0ff86ba92d16d41f771bea027b4b0",
          "grade": false,
          "grade_id": "cell-1ad67705d50f701d",
          "locked": true,
          "schema_version": 3,
          "solution": false,
          "task": false
        },
        "tags": [],
        "id": "6d32360d-f18c-4c90-85af-1a4df14d8ae6",
        "colab": {
          "base_uri": "https://localhost:8080/",
          "height": 430
        },
        "outputId": "ba7cc970-12b4-4f6a-a09c-28cd5411e310"
      },
      "outputs": [
        {
          "output_type": "display_data",
          "data": {
            "text/plain": [
              "<Figure size 640x480 with 1 Axes>"
            ],
            "image/png": "[encoded data removed]"
          },
          "metadata": {}
        }
      ],
      "source": [
        "# Trực quan hóa dữ liệu và mô hình sau khi huấn luyện\n",
        "plt.plot(red_points[:,0], red_points[:,1], 'ro')\n",
        "plt.plot(blue_points[:,0], blue_points[:,1], 'bo')\n",
        "\n",
        "# Trực quan hóa đường thẳng phân lớp 2 tập đỏ, xanh từ các hệ số ở trên:\n",
        "# Khoảng giá trị nhỏ nhất và lớn nhất mà x1 có thể nhận được từ 0-6\n",
        "x1=[0, 6]\n",
        "\n",
        "# Tính giá trị x2 dựa trên các tham số theta1, theta2, bias\n",
        "# Tìm hiểu các tham số này mang ý nghĩa gì và thể hiện như thế nào?\n",
        "# Từ đó tính toán giá trị x2\n",
        "# YOUR CODE HERE\n",
        "x2 =(-bias - theta1 * x1) / theta2\n",
        "\n",
        "plt.plot(x1, x2)\n",
        "plt.show()"
      ]
    },
    {
      "cell_type": "markdown",
      "id": "f6d90f1f-8ff1-49f7-9c4b-a099ca7bfed8",
      "metadata": {
        "deletable": false,
        "editable": false,
        "nbgrader": {
          "cell_type": "markdown",
          "checksum": "ed76fe1986bf8b036fa6066d77577e99",
          "grade": false,
          "grade_id": "cell-64f389b662b21977",
          "locked": true,
          "schema_version": 3,
          "solution": false,
          "task": false
        },
        "tags": [],
        "id": "f6d90f1f-8ff1-49f7-9c4b-a099ca7bfed8"
      },
      "source": [
        "Từ kết quả đường thẳng thu được ở trên, bạn có nhận xét như thế nào về đường thẳng này đối với 2 tập dữ liệu xanh và đỏ."
      ]
    },
    {
      "cell_type": "markdown",
      "source": [
        "Nhận xét của bạn?"
      ],
      "metadata": {
        "id": "pevDVBULL-A2"
      },
      "id": "pevDVBULL-A2"
    },
    {
      "cell_type": "markdown",
      "source": [
        "Tiếp theo đây, chúng ta sẽ kiểm tra sự dự đoán của mô hình Logistic Regression đã huấn luyện ở trên."
      ],
      "metadata": {
        "id": "W2A5ONBdMBKu"
      },
      "id": "W2A5ONBdMBKu"
    },
    {
      "cell_type": "code",
      "source": [
        "y_train.shape"
      ],
      "metadata": {
        "colab": {
          "base_uri": "https://localhost:8080/"
        },
        "id": "HG5m4_BY65Xf",
        "outputId": "0bcea206-30e3-4cbb-fdfd-5a5dd3a6e269"
      },
      "id": "HG5m4_BY65Xf",
      "execution_count": null,
      "outputs": [
        {
          "output_type": "execute_result",
          "data": {
            "text/plain": [
              "(20, 2)"
            ]
          },
          "metadata": {},
          "execution_count": 21
        }
      ]
    },
    {
      "cell_type": "code",
      "source": [
        "x_test"
      ],
      "metadata": {
        "colab": {
          "base_uri": "https://localhost:8080/"
        },
        "id": "pzrJbC_z63fA",
        "outputId": "e1971207-0243-4b39-c3ec-aed753c74936"
      },
      "id": "pzrJbC_z63fA",
      "execution_count": null,
      "outputs": [
        {
          "output_type": "execute_result",
          "data": {
            "text/plain": [
              "array([[ 0.77767186,  5.79924193],\n",
              "       [ 1.18656139,  6.41005165],\n",
              "       [ 1.19829972,  6.11900865],\n",
              "       [ 0.32933771,  6.37756379],\n",
              "       [ 1.12182127,  7.12948391],\n",
              "       [ 2.19891788,  6.18515642],\n",
              "       [ 0.62471505,  5.36126959],\n",
              "       [ 1.42349435,  6.07734007],\n",
              "       [ 0.65614632,  6.04359686],\n",
              "       [ 0.37999916,  6.69803203],\n",
              "       [ 0.55287144,  7.2245077 ],\n",
              "       [ 1.40349164,  6.59357852],\n",
              "       [-0.09491185,  6.16938243],\n",
              "       [ 1.74055645,  5.0462994 ],\n",
              "       [ 0.73378149,  6.03261455],\n",
              "       [-0.37311732,  6.31515939],\n",
              "       [ 1.84616065,  5.14048406],\n",
              "       [ 1.35054598,  4.68771659],\n",
              "       [ 0.96130449,  4.38422765],\n",
              "       [ 2.12141771,  6.40890054]])"
            ]
          },
          "metadata": {},
          "execution_count": 31
        }
      ]
    },
    {
      "cell_type": "code",
      "source": [
        "y_pred = pretrain_LogisticRegression.predict(x_test)[:,0]\n",
        "y_pred"
      ],
      "metadata": {
        "colab": {
          "base_uri": "https://localhost:8080/"
        },
        "id": "Wv5rGeLt6mgf",
        "outputId": "2d58ac3c-5b95-45ce-fbaa-1ae362a5002d"
      },
      "id": "Wv5rGeLt6mgf",
      "execution_count": null,
      "outputs": [
        {
          "output_type": "stream",
          "name": "stdout",
          "text": [
            "1/1 [==============================] - 0s 20ms/step\n"
          ]
        },
        {
          "output_type": "execute_result",
          "data": {
            "text/plain": [
              "array([0.99733984, 0.9980043 , 0.9971799 , 0.99913   , 0.9991819 ,\n",
              "       0.9928268 , 0.99623424, 0.99628645, 0.9982227 , 0.99936634,\n",
              "       0.99958783, 0.9979868 , 0.9992808 , 0.98345524, 0.9980531 ,\n",
              "       0.9995411 , 0.9834763 , 0.983174  , 0.9839095 , 0.9948626 ],\n",
              "      dtype=float32)"
            ]
          },
          "metadata": {},
          "execution_count": 23
        }
      ]
    },
    {
      "cell_type": "code",
      "source": [
        "y_pred.shape()"
      ],
      "metadata": {
        "colab": {
          "base_uri": "https://localhost:8080/",
          "height": 171
        },
        "id": "M4grwNA799bg",
        "outputId": "cff1af6e-051b-4574-c201-044c2bc7a560"
      },
      "id": "M4grwNA799bg",
      "execution_count": null,
      "outputs": [
        {
          "output_type": "error",
          "ename": "TypeError",
          "evalue": "ignored",
          "traceback": [
            "\u001b[0;31m---------------------------------------------------------------------------\u001b[0m",
            "\u001b[0;31mTypeError\u001b[0m                                 Traceback (most recent call last)",
            "\u001b[0;32m<ipython-input-21-e58cd20f7b51>\u001b[0m in \u001b[0;36m<cell line: 1>\u001b[0;34m()\u001b[0m\n\u001b[0;32m----> 1\u001b[0;31m \u001b[0my_pred\u001b[0m\u001b[0;34m.\u001b[0m\u001b[0mshape\u001b[0m\u001b[0;34m(\u001b[0m\u001b[0;34m)\u001b[0m\u001b[0;34m\u001b[0m\u001b[0;34m\u001b[0m\u001b[0m\n\u001b[0m",
            "\u001b[0;31mTypeError\u001b[0m: 'tuple' object is not callable"
          ]
        }
      ]
    },
    {
      "cell_type": "code",
      "execution_count": null,
      "id": "771bd466-09b3-4baf-b746-7ca63c50e095",
      "metadata": {
        "deletable": false,
        "editable": false,
        "nbgrader": {
          "cell_type": "code",
          "checksum": "65fb9096e3e0c8421c003f6a8c701d98",
          "grade": false,
          "grade_id": "cell-179da7d7be1454f7",
          "locked": true,
          "schema_version": 3,
          "solution": false,
          "task": false
        },
        "tags": [],
        "id": "771bd466-09b3-4baf-b746-7ca63c50e095",
        "colab": {
          "base_uri": "https://localhost:8080/"
        },
        "outputId": "c5e34358-8196-4706-d01a-6a3bdfec3a5b"
      },
      "outputs": [
        {
          "output_type": "stream",
          "name": "stdout",
          "text": [
            "2/2 [==============================] - 0s 7ms/step\n",
            "Giá trị nhãn dự đoán trên tập test: \n",
            "[0. 0. 0. 0. 0. 0. 0. 0. 0. 0. 0. 0. 0. 0. 0. 0. 0. 0. 0. 0. 1. 1. 1. 1.\n",
            " 1. 1. 1. 1. 1. 1. 1. 1. 1. 1. 1. 1. 1. 1. 1. 1.]\n",
            "Giá trị nhãn phát sinh (tập test): \n",
            "[0. 0. 0. 0. 0. 0. 0. 0. 0. 0. 0. 0. 0. 0. 0. 0. 0. 0. 0. 0. 1. 1. 1. 1.\n",
            " 1. 1. 1. 1. 1. 1. 1. 1. 1. 1. 1. 1. 1. 1. 1. 1.]\n"
          ]
        }
      ],
      "source": [
        "# Sai số trung bình khi thử nghiệm trên tập test:\n",
        "y_pred = pretrain_LogisticRegression.predict(x_test)[:,0]\n",
        "\n",
        "y_pred[y_pred >= 0.5] = 1\n",
        "y_pred[y_pred < 0.5] = 0\n",
        "y_test[y_test >= 0.5] = 1\n",
        "y_test[y_test < 0.5] = 0\n",
        "print('Giá trị nhãn dự đoán trên tập test: ')\n",
        "print(y_pred)\n",
        "print('Giá trị nhãn phát sinh (tập test): ')\n",
        "print(y_test)"
      ]
    },
    {
      "cell_type": "markdown",
      "source": [
        "Từ các nhận xét ở trên, thêm vào đó là các giá trị dự đoán `y_pred` so với dữ liệu `y_test` đã phát sinh tại phần 1. Bạn hãy có nhận xét về kết quả thu được và những nội dung tìm hiểu.\n",
        "\n",
        "> Indented block\n",
        "\n"
      ],
      "metadata": {
        "id": "5305jlxgMmiX"
      },
      "id": "5305jlxgMmiX"
    },
    {
      "cell_type": "code",
      "source": [
        "options = ['Hả? Hoi hoi! Ai làm gì làm, tui không có biết :((((', 'y_pred gần như chính xác so với y_test', 'y_pred là không khớp so với y_test', 'y_pred đôi khi giống nhau so với y_test nhưng đôi khi lại gần giống nhau so với y_test tùy thuộc vào nhiều yếu tố']\n",
        "\n",
        "# Hãy chọn your_choice bằng 0, 1, 2, 3 tương ứng với các lựa chọn ở trên\n",
        "# YOUR CODE HERE\n",
        "your_choice = 1\n",
        "\n",
        "print(\"Kết quả không thể nào khác, đó chính là: \", options[your_choice])"
      ],
      "metadata": {
        "id": "2dA7ItKGMa5f",
        "colab": {
          "base_uri": "https://localhost:8080/"
        },
        "outputId": "88aa1adc-445f-4f18-c218-4c0336091f36"
      },
      "id": "2dA7ItKGMa5f",
      "execution_count": null,
      "outputs": [
        {
          "output_type": "stream",
          "name": "stdout",
          "text": [
            "Kết quả không thể nào khác, đó chính là:  y_pred gần như chính xác so với y_test\n"
          ]
        }
      ]
    },
    {
      "cell_type": "markdown",
      "id": "00cb135c-e154-40fa-bf8b-16c926357919",
      "metadata": {
        "deletable": false,
        "editable": false,
        "nbgrader": {
          "cell_type": "markdown",
          "checksum": "c5100dbe33b48fddcf42076eecc4cbde",
          "grade": false,
          "grade_id": "cell-7c27476a9e38e75d",
          "locked": true,
          "schema_version": 3,
          "solution": false,
          "task": false
        },
        "tags": [],
        "id": "00cb135c-e154-40fa-bf8b-16c926357919"
      },
      "source": [
        "Để tính tổng độ chính xác (Accuracy), ta đếm tổng số mẫu mà giá trị dự đoán khớp với giá trị phát sinh, sau đó chia cho tổng số mẫu:"
      ]
    },
    {
      "cell_type": "code",
      "execution_count": null,
      "id": "9b0274cb-2348-4882-826c-2471254c0fdb",
      "metadata": {
        "deletable": false,
        "nbgrader": {
          "cell_type": "code",
          "checksum": "2b46aa700329ba730cbb3ca8b9f93610",
          "grade": false,
          "grade_id": "cell-7fc5dee8a7eaf0a3",
          "locked": false,
          "schema_version": 3,
          "solution": true,
          "task": false
        },
        "tags": [],
        "id": "9b0274cb-2348-4882-826c-2471254c0fdb"
      },
      "outputs": [],
      "source": [
        "def accuracy(y_pred, y_test):\n",
        "    accuracy = None\n",
        "    # Cài đặt biến `acc` chứa độ chính xác theo %\n",
        "    # với công thức tính bằng tổng số mẫu dự đoán đúng \n",
        "    # (`y_pred` và `y_test` khớp nhau) chia cho tổng số mẫu\n",
        "    # của tập test. \n",
        "    # Lưu ý: giá trị nhỏ nhất là 0%, lớn nhất là 100%\n",
        "    # YOUR CODE HERE\n",
        "    accuracy = np.mean(y_pred == y_test) * 100\n",
        "\n",
        "    return accuracy\n"
      ]
    },
    {
      "cell_type": "code",
      "source": [
        "accuracy\n"
      ],
      "metadata": {
        "colab": {
          "base_uri": "https://localhost:8080/"
        },
        "id": "3FwKv0zvmPCK",
        "outputId": "c43de756-2482-461b-8b21-8c30681267de"
      },
      "id": "3FwKv0zvmPCK",
      "execution_count": null,
      "outputs": [
        {
          "output_type": "execute_result",
          "data": {
            "text/plain": [
              "<function __main__.accuracy(y_pred, y_test)>"
            ]
          },
          "metadata": {},
          "execution_count": 30
        }
      ]
    },
    {
      "cell_type": "code",
      "source": [
        "from sklearn.metrics import accuracy_score\n"
      ],
      "metadata": {
        "id": "Ie2R0-rkiOHy"
      },
      "id": "Ie2R0-rkiOHy",
      "execution_count": null,
      "outputs": []
    },
    {
      "cell_type": "code",
      "source": [
        "y_pred"
      ],
      "metadata": {
        "colab": {
          "base_uri": "https://localhost:8080/"
        },
        "id": "4RFcqqLoqB2q",
        "outputId": "135084e4-b445-4446-98cb-a4830b1c564c"
      },
      "id": "4RFcqqLoqB2q",
      "execution_count": null,
      "outputs": [
        {
          "output_type": "execute_result",
          "data": {
            "text/plain": [
              "array([1., 1., 1., 1., 1., 1., 1., 1., 1., 1., 1., 1., 1., 1., 1., 1., 1.,\n",
              "       1., 1., 1.], dtype=float32)"
            ]
          },
          "metadata": {},
          "execution_count": 34
        }
      ]
    },
    {
      "cell_type": "code",
      "execution_count": null,
      "id": "d0bb8bc0-f7dc-4173-a9bc-c5434f193932",
      "metadata": {
        "deletable": false,
        "editable": false,
        "nbgrader": {
          "cell_type": "code",
          "checksum": "d8601c8c4256b88336712829a11e9a1e",
          "grade": false,
          "grade_id": "cell-0ff379cb8aa1d20f",
          "locked": true,
          "schema_version": 3,
          "solution": false,
          "task": false
        },
        "tags": [],
        "id": "d0bb8bc0-f7dc-4173-a9bc-c5434f193932",
        "colab": {
          "base_uri": "https://localhost:8080/"
        },
        "outputId": "0c43deb3-193b-42ba-8ddd-a64fddb70f37"
      },
      "outputs": [
        {
          "output_type": "stream",
          "name": "stdout",
          "text": [
            "Độ chính xác trên tập test:  100.0 (%)\n"
          ]
        }
      ],
      "source": [
        "print(\"Độ chính xác trên tập test: \", accuracy(y_pred, y_test), \"(%)\")"
      ]
    },
    {
      "cell_type": "markdown",
      "source": [
        "# PHẦN 2: LOGISTIC REGRESSION SỬ DỤNG THƯ VIỆN SCIKIT-LEARN VỚI BÀI TOÁN CỤ THỂ\n",
        "\n",
        "Tại phần thực hành này, sinh viên sẽ tìm hiểu về dataset và cách sử dụng dataset được cung cấp tại https://www.kaggle.com/datasets/sulianova/cardiovascular-disease-dataset\n",
        "\n",
        "\n",
        "\n"
      ],
      "metadata": {
        "id": "OTpd6Ukt9J77"
      },
      "id": "OTpd6Ukt9J77"
    },
    {
      "cell_type": "code",
      "source": [
        "# Mount dữ liệu từ drive của bạn và google colab\n",
        "from google.colab import drive\n",
        "drive.mount('/content/gdrive')"
      ],
      "metadata": {
        "id": "ulHxdLmGHqR2",
        "colab": {
          "base_uri": "https://localhost:8080/"
        },
        "outputId": "f252960c-0e6e-42e8-c175-ddbaf33c29b6"
      },
      "id": "ulHxdLmGHqR2",
      "execution_count": null,
      "outputs": [
        {
          "output_type": "stream",
          "name": "stdout",
          "text": [
            "Mounted at /content/gdrive\n"
          ]
        }
      ]
    },
    {
      "cell_type": "code",
      "source": [
        "# Upload file dataset đã download tại đường dẫn trên vào google colab\n",
        "from google.colab import files\n",
        "data = files.upload()"
      ],
      "metadata": {
        "id": "IC5rLeJCHxbb",
        "colab": {
          "base_uri": "https://localhost:8080/",
          "height": 73
        },
        "outputId": "09c13bfb-d138-4fb6-d2bd-40df6c6887ce"
      },
      "id": "IC5rLeJCHxbb",
      "execution_count": null,
      "outputs": [
        {
          "output_type": "display_data",
          "data": {
            "text/plain": [
              "<IPython.core.display.HTML object>"
            ],
            "text/html": [
              "\n",
              "     <input type=\"file\" id=\"files-26ea07b3-42eb-47d6-a6c2-785dbda37403\" name=\"files[]\" multiple disabled\n",
              "        style=\"border:none\" />\n",
              "     <output id=\"result-26ea07b3-42eb-47d6-a6c2-785dbda37403\">\n",
              "      Upload widget is only available when the cell has been executed in the\n",
              "      current browser session. Please rerun this cell to enable.\n",
              "      </output>\n",
              "      <script>// Copyright 2017 Google LLC\n",
              "//\n",
              "// Licensed under the Apache License, Version 2.0 (the \"License\");\n",
              "// you may not use this file except in compliance with the License.\n",
              "// You may obtain a copy of the License at\n",
              "//\n",
              "//      http://www.apache.org/licenses/LICENSE-2.0\n",
              "//\n",
              "// Unless required by applicable law or agreed to in writing, software\n",
              "// distributed under the License is distributed on an \"AS IS\" BASIS,\n",
              "// WITHOUT WARRANTIES OR CONDITIONS OF ANY KIND, either express or implied.\n",
              "// See the License for the specific language governing permissions and\n",
              "// limitations under the License.\n",
              "\n",
              "/**\n",
              " * @fileoverview Helpers for google.colab Python module.\n",
              " */\n",
              "(function(scope) {\n",
              "function span(text, styleAttributes = {}) {\n",
              "  const element = document.createElement('span');\n",
              "  element.textContent = text;\n",
              "  for (const key of Object.keys(styleAttributes)) {\n",
              "    element.style[key] = styleAttributes[key];\n",
              "  }\n",
              "  return element;\n",
              "}\n",
              "\n",
              "// Max number of bytes which will be uploaded at a time.\n",
              "const MAX_PAYLOAD_SIZE = 100 * 1024;\n",
              "\n",
              "function _uploadFiles(inputId, outputId) {\n",
              "  const steps = uploadFilesStep(inputId, outputId);\n",
              "  const outputElement = document.getElementById(outputId);\n",
              "  // Cache steps on the outputElement to make it available for the next call\n",
              "  // to uploadFilesContinue from Python.\n",
              "  outputElement.steps = steps;\n",
              "\n",
              "  return _uploadFilesContinue(outputId);\n",
              "}\n",
              "\n",
              "// This is roughly an async generator (not supported in the browser yet),\n",
              "// where there are multiple asynchronous steps and the Python side is going\n",
              "// to poll for completion of each step.\n",
              "// This uses a Promise to block the python side on completion of each step,\n",
              "// then passes the result of the previous step as the input to the next step.\n",
              "function _uploadFilesContinue(outputId) {\n",
              "  const outputElement = document.getElementById(outputId);\n",
              "  const steps = outputElement.steps;\n",
              "\n",
              "  const next = steps.next(outputElement.lastPromiseValue);\n",
              "  return Promise.resolve(next.value.promise).then((value) => {\n",
              "    // Cache the last promise value to make it available to the next\n",
              "    // step of the generator.\n",
              "    outputElement.lastPromiseValue = value;\n",
              "    return next.value.response;\n",
              "  });\n",
              "}\n",
              "\n",
              "/**\n",
              " * Generator function which is called between each async step of the upload\n",
              " * process.\n",
              " * @param {string} inputId Element ID of the input file picker element.\n",
              " * @param {string} outputId Element ID of the output display.\n",
              " * @return {!Iterable<!Object>} Iterable of next steps.\n",
              " */\n",
              "function* uploadFilesStep(inputId, outputId) {\n",
              "  const inputElement = document.getElementById(inputId);\n",
              "  inputElement.disabled = false;\n",
              "\n",
              "  const outputElement = document.getElementById(outputId);\n",
              "  outputElement.innerHTML = '';\n",
              "\n",
              "  const pickedPromise = new Promise((resolve) => {\n",
              "    inputElement.addEventListener('change', (e) => {\n",
              "      resolve(e.target.files);\n",
              "    });\n",
              "  });\n",
              "\n",
              "  const cancel = document.createElement('button');\n",
              "  inputElement.parentElement.appendChild(cancel);\n",
              "  cancel.textContent = 'Cancel upload';\n",
              "  const cancelPromise = new Promise((resolve) => {\n",
              "    cancel.onclick = () => {\n",
              "      resolve(null);\n",
              "    };\n",
              "  });\n",
              "\n",
              "  // Wait for the user to pick the files.\n",
              "  const files = yield {\n",
              "    promise: Promise.race([pickedPromise, cancelPromise]),\n",
              "    response: {\n",
              "      action: 'starting',\n",
              "    }\n",
              "  };\n",
              "\n",
              "  cancel.remove();\n",
              "\n",
              "  // Disable the input element since further picks are not allowed.\n",
              "  inputElement.disabled = true;\n",
              "\n",
              "  if (!files) {\n",
              "    return {\n",
              "      response: {\n",
              "        action: 'complete',\n",
              "      }\n",
              "    };\n",
              "  }\n",
              "\n",
              "  for (const file of files) {\n",
              "    const li = document.createElement('li');\n",
              "    li.append(span(file.name, {fontWeight: 'bold'}));\n",
              "    li.append(span(\n",
              "        `(${file.type || 'n/a'}) - ${file.size} bytes, ` +\n",
              "        `last modified: ${\n",
              "            file.lastModifiedDate ? file.lastModifiedDate.toLocaleDateString() :\n",
              "                                    'n/a'} - `));\n",
              "    const percent = span('0% done');\n",
              "    li.appendChild(percent);\n",
              "\n",
              "    outputElement.appendChild(li);\n",
              "\n",
              "    const fileDataPromise = new Promise((resolve) => {\n",
              "      const reader = new FileReader();\n",
              "      reader.onload = (e) => {\n",
              "        resolve(e.target.result);\n",
              "      };\n",
              "      reader.readAsArrayBuffer(file);\n",
              "    });\n",
              "    // Wait for the data to be ready.\n",
              "    let fileData = yield {\n",
              "      promise: fileDataPromise,\n",
              "      response: {\n",
              "        action: 'continue',\n",
              "      }\n",
              "    };\n",
              "\n",
              "    // Use a chunked sending to avoid message size limits. See b/62115660.\n",
              "    let position = 0;\n",
              "    do {\n",
              "      const length = Math.min(fileData.byteLength - position, MAX_PAYLOAD_SIZE);\n",
              "      const chunk = new Uint8Array(fileData, position, length);\n",
              "      position += length;\n",
              "\n",
              "      const base64 = btoa(String.fromCharCode.apply(null, chunk));\n",
              "      yield {\n",
              "        response: {\n",
              "          action: 'append',\n",
              "          file: file.name,\n",
              "          data: base64,\n",
              "        },\n",
              "      };\n",
              "\n",
              "      let percentDone = fileData.byteLength === 0 ?\n",
              "          100 :\n",
              "          Math.round((position / fileData.byteLength) * 100);\n",
              "      percent.textContent = `${percentDone}% done`;\n",
              "\n",
              "    } while (position < fileData.byteLength);\n",
              "  }\n",
              "\n",
              "  // All done.\n",
              "  yield {\n",
              "    response: {\n",
              "      action: 'complete',\n",
              "    }\n",
              "  };\n",
              "}\n",
              "\n",
              "scope.google = scope.google || {};\n",
              "scope.google.colab = scope.google.colab || {};\n",
              "scope.google.colab._files = {\n",
              "  _uploadFiles,\n",
              "  _uploadFilesContinue,\n",
              "};\n",
              "})(self);\n",
              "</script> "
            ]
          },
          "metadata": {}
        },
        {
          "output_type": "stream",
          "name": "stdout",
          "text": [
            "Saving cardio_train.csv to cardio_train (1).csv\n"
          ]
        }
      ]
    },
    {
      "cell_type": "code",
      "source": [
        "import pandas as pd\n",
        "\n",
        "chd_data = pd.read_csv('/content/cardio_train.csv', sep=';')"
      ],
      "metadata": {
        "id": "cv1k1S9KK0kb"
      },
      "id": "cv1k1S9KK0kb",
      "execution_count": null,
      "outputs": []
    },
    {
      "cell_type": "code",
      "source": [
        "chd_data.head()"
      ],
      "metadata": {
        "id": "8sF4rduSNu7l",
        "colab": {
          "base_uri": "https://localhost:8080/",
          "height": 270
        },
        "outputId": "fdbd0e6d-bec3-4b9d-e448-a622de2132ce"
      },
      "id": "8sF4rduSNu7l",
      "execution_count": null,
      "outputs": [
        {
          "output_type": "execute_result",
          "data": {
            "text/plain": [
              "   id    age  gender  height  weight  ap_hi  ap_lo  cholesterol  gluc  smoke  \\\n",
              "0   0  18393       2     168    62.0    110     80            1     1      0   \n",
              "1   1  20228       1     156    85.0    140     90            3     1      0   \n",
              "2   2  18857       1     165    64.0    130     70            3     1      0   \n",
              "3   3  17623       2     169    82.0    150    100            1     1      0   \n",
              "4   4  17474       1     156    56.0    100     60            1     1      0   \n",
              "\n",
              "   alco  active  cardio  \n",
              "0     0       1       0  \n",
              "1     0       1       1  \n",
              "2     0       0       1  \n",
              "3     0       1       1  \n",
              "4     0       0       0  "
            ],
            "text/html": [
              "\n",
              "  <div id=\"df-039b524b-3366-4458-aada-97d40f59019e\">\n",
              "    <div class=\"colab-df-container\">\n",
              "      <div>\n",
              "<style scoped>\n",
              "    .dataframe tbody tr th:only-of-type {\n",
              "        vertical-align: middle;\n",
              "    }\n",
              "\n",
              "    .dataframe tbody tr th {\n",
              "        vertical-align: top;\n",
              "    }\n",
              "\n",
              "    .dataframe thead th {\n",
              "        text-align: right;\n",
              "    }\n",
              "</style>\n",
              "<table border=\"1\" class=\"dataframe\">\n",
              "  <thead>\n",
              "    <tr style=\"text-align: right;\">\n",
              "      <th></th>\n",
              "      <th>id</th>\n",
              "      <th>age</th>\n",
              "      <th>gender</th>\n",
              "      <th>height</th>\n",
              "      <th>weight</th>\n",
              "      <th>ap_hi</th>\n",
              "      <th>ap_lo</th>\n",
              "      <th>cholesterol</th>\n",
              "      <th>gluc</th>\n",
              "      <th>smoke</th>\n",
              "      <th>alco</th>\n",
              "      <th>active</th>\n",
              "      <th>cardio</th>\n",
              "    </tr>\n",
              "  </thead>\n",
              "  <tbody>\n",
              "    <tr>\n",
              "      <th>0</th>\n",
              "      <td>0</td>\n",
              "      <td>18393</td>\n",
              "      <td>2</td>\n",
              "      <td>168</td>\n",
              "      <td>62.0</td>\n",
              "      <td>110</td>\n",
              "      <td>80</td>\n",
              "      <td>1</td>\n",
              "      <td>1</td>\n",
              "      <td>0</td>\n",
              "      <td>0</td>\n",
              "      <td>1</td>\n",
              "      <td>0</td>\n",
              "    </tr>\n",
              "    <tr>\n",
              "      <th>1</th>\n",
              "      <td>1</td>\n",
              "      <td>20228</td>\n",
              "      <td>1</td>\n",
              "      <td>156</td>\n",
              "      <td>85.0</td>\n",
              "      <td>140</td>\n",
              "      <td>90</td>\n",
              "      <td>3</td>\n",
              "      <td>1</td>\n",
              "      <td>0</td>\n",
              "      <td>0</td>\n",
              "      <td>1</td>\n",
              "      <td>1</td>\n",
              "    </tr>\n",
              "    <tr>\n",
              "      <th>2</th>\n",
              "      <td>2</td>\n",
              "      <td>18857</td>\n",
              "      <td>1</td>\n",
              "      <td>165</td>\n",
              "      <td>64.0</td>\n",
              "      <td>130</td>\n",
              "      <td>70</td>\n",
              "      <td>3</td>\n",
              "      <td>1</td>\n",
              "      <td>0</td>\n",
              "      <td>0</td>\n",
              "      <td>0</td>\n",
              "      <td>1</td>\n",
              "    </tr>\n",
              "    <tr>\n",
              "      <th>3</th>\n",
              "      <td>3</td>\n",
              "      <td>17623</td>\n",
              "      <td>2</td>\n",
              "      <td>169</td>\n",
              "      <td>82.0</td>\n",
              "      <td>150</td>\n",
              "      <td>100</td>\n",
              "      <td>1</td>\n",
              "      <td>1</td>\n",
              "      <td>0</td>\n",
              "      <td>0</td>\n",
              "      <td>1</td>\n",
              "      <td>1</td>\n",
              "    </tr>\n",
              "    <tr>\n",
              "      <th>4</th>\n",
              "      <td>4</td>\n",
              "      <td>17474</td>\n",
              "      <td>1</td>\n",
              "      <td>156</td>\n",
              "      <td>56.0</td>\n",
              "      <td>100</td>\n",
              "      <td>60</td>\n",
              "      <td>1</td>\n",
              "      <td>1</td>\n",
              "      <td>0</td>\n",
              "      <td>0</td>\n",
              "      <td>0</td>\n",
              "      <td>0</td>\n",
              "    </tr>\n",
              "  </tbody>\n",
              "</table>\n",
              "</div>\n",
              "      <button class=\"colab-df-convert\" onclick=\"convertToInteractive('df-039b524b-3366-4458-aada-97d40f59019e')\"\n",
              "              title=\"Convert this dataframe to an interactive table.\"\n",
              "              style=\"display:none;\">\n",
              "        \n",
              "  <svg xmlns=\"http://www.w3.org/2000/svg\" height=\"24px\"viewBox=\"0 0 24 24\"\n",
              "       width=\"24px\">\n",
              "    <path d=\"M0 0h24v24H0V0z\" fill=\"none\"/>\n",
              "    <path d=\"M18.56 5.44l.94 2.06.94-2.06 2.06-.94-2.06-.94-.94-2.06-.94 2.06-2.06.94zm-11 1L8.5 8.5l.94-2.06 2.06-.94-2.06-.94L8.5 2.5l-.94 2.06-2.06.94zm10 10l.94 2.06.94-2.06 2.06-.94-2.06-.94-.94-2.06-.94 2.06-2.06.94z\"/><path d=\"M17.41 7.96l-1.37-1.37c-.4-.4-.92-.59-1.43-.59-.52 0-1.04.2-1.43.59L10.3 9.45l-7.72 7.72c-.78.78-.78 2.05 0 2.83L4 21.41c.39.39.9.59 1.41.59.51 0 1.02-.2 1.41-.59l7.78-7.78 2.81-2.81c.8-.78.8-2.07 0-2.86zM5.41 20L4 18.59l7.72-7.72 1.47 1.35L5.41 20z\"/>\n",
              "  </svg>\n",
              "      </button>\n",
              "      \n",
              "  <style>\n",
              "    .colab-df-container {\n",
              "      display:flex;\n",
              "      flex-wrap:wrap;\n",
              "      gap: 12px;\n",
              "    }\n",
              "\n",
              "    .colab-df-convert {\n",
              "      background-color: #E8F0FE;\n",
              "      border: none;\n",
              "      border-radius: 50%;\n",
              "      cursor: pointer;\n",
              "      display: none;\n",
              "      fill: #1967D2;\n",
              "      height: 32px;\n",
              "      padding: 0 0 0 0;\n",
              "      width: 32px;\n",
              "    }\n",
              "\n",
              "    .colab-df-convert:hover {\n",
              "      background-color: #E2EBFA;\n",
              "      box-shadow: 0px 1px 2px rgba(60, 64, 67, 0.3), 0px 1px 3px 1px rgba(60, 64, 67, 0.15);\n",
              "      fill: #174EA6;\n",
              "    }\n",
              "\n",
              "    [theme=dark] .colab-df-convert {\n",
              "      background-color: #3B4455;\n",
              "      fill: #D2E3FC;\n",
              "    }\n",
              "\n",
              "    [theme=dark] .colab-df-convert:hover {\n",
              "      background-color: #434B5C;\n",
              "      box-shadow: 0px 1px 3px 1px rgba(0, 0, 0, 0.15);\n",
              "      filter: drop-shadow(0px 1px 2px rgba(0, 0, 0, 0.3));\n",
              "      fill: #FFFFFF;\n",
              "    }\n",
              "  </style>\n",
              "\n",
              "      <script>\n",
              "        const buttonEl =\n",
              "          document.querySelector('#df-039b524b-3366-4458-aada-97d40f59019e button.colab-df-convert');\n",
              "        buttonEl.style.display =\n",
              "          google.colab.kernel.accessAllowed ? 'block' : 'none';\n",
              "\n",
              "        async function convertToInteractive(key) {\n",
              "          const element = document.querySelector('#df-039b524b-3366-4458-aada-97d40f59019e');\n",
              "          const dataTable =\n",
              "            await google.colab.kernel.invokeFunction('convertToInteractive',\n",
              "                                                     [key], {});\n",
              "          if (!dataTable) return;\n",
              "\n",
              "          const docLinkHtml = 'Like what you see? Visit the ' +\n",
              "            '<a target=\"_blank\" href=https://colab.research.google.com/notebooks/data_table.ipynb>data table notebook</a>'\n",
              "            + ' to learn more about interactive tables.';\n",
              "          element.innerHTML = '';\n",
              "          dataTable['output_type'] = 'display_data';\n",
              "          await google.colab.output.renderOutput(dataTable, element);\n",
              "          const docLink = document.createElement('div');\n",
              "          docLink.innerHTML = docLinkHtml;\n",
              "          element.appendChild(docLink);\n",
              "        }\n",
              "      </script>\n",
              "    </div>\n",
              "  </div>\n",
              "  "
            ]
          },
          "metadata": {},
          "execution_count": 27
        }
      ]
    },
    {
      "cell_type": "code",
      "source": [
        "chd_data.shape"
      ],
      "metadata": {
        "id": "p73ZbJd8OSHe",
        "colab": {
          "base_uri": "https://localhost:8080/"
        },
        "outputId": "fc9c84e5-0d10-49d0-a1ee-9b60ef704e5c"
      },
      "id": "p73ZbJd8OSHe",
      "execution_count": null,
      "outputs": [
        {
          "output_type": "execute_result",
          "data": {
            "text/plain": [
              "(70000, 13)"
            ]
          },
          "metadata": {},
          "execution_count": 28
        }
      ]
    },
    {
      "cell_type": "code",
      "source": [
        "chd_data.columns"
      ],
      "metadata": {
        "id": "2oSEg8oYOiBQ",
        "colab": {
          "base_uri": "https://localhost:8080/"
        },
        "outputId": "be9a2fae-9221-4b6d-f631-639f63384a57"
      },
      "id": "2oSEg8oYOiBQ",
      "execution_count": null,
      "outputs": [
        {
          "output_type": "execute_result",
          "data": {
            "text/plain": [
              "Index(['id', 'age', 'gender', 'height', 'weight', 'ap_hi', 'ap_lo',\n",
              "       'cholesterol', 'gluc', 'smoke', 'alco', 'active', 'cardio'],\n",
              "      dtype='object')"
            ]
          },
          "metadata": {},
          "execution_count": 29
        }
      ]
    },
    {
      "cell_type": "code",
      "source": [
        "chd_data.isnull().sum()"
      ],
      "metadata": {
        "id": "8BsUJkJJOpCj",
        "colab": {
          "base_uri": "https://localhost:8080/"
        },
        "outputId": "98333323-1d51-4c7d-eb17-f6c599233c95"
      },
      "id": "8BsUJkJJOpCj",
      "execution_count": null,
      "outputs": [
        {
          "output_type": "execute_result",
          "data": {
            "text/plain": [
              "id             0\n",
              "age            0\n",
              "gender         0\n",
              "height         0\n",
              "weight         0\n",
              "ap_hi          0\n",
              "ap_lo          0\n",
              "cholesterol    0\n",
              "gluc           0\n",
              "smoke          0\n",
              "alco           0\n",
              "active         0\n",
              "cardio         0\n",
              "dtype: int64"
            ]
          },
          "metadata": {},
          "execution_count": 30
        }
      ]
    },
    {
      "cell_type": "code",
      "source": [
        "# Xóa các cột không cần đến\n",
        "del chd_data['id']\n",
        "chd_data.head()"
      ],
      "metadata": {
        "id": "m5fEkRD4O4w5",
        "colab": {
          "base_uri": "https://localhost:8080/",
          "height": 270
        },
        "outputId": "e030684b-4749-4b76-baa5-7cd6b8da8263"
      },
      "id": "m5fEkRD4O4w5",
      "execution_count": null,
      "outputs": [
        {
          "output_type": "execute_result",
          "data": {
            "text/plain": [
              "     age  gender  height  weight  ap_hi  ap_lo  cholesterol  gluc  smoke  \\\n",
              "0  18393       2     168    62.0    110     80            1     1      0   \n",
              "1  20228       1     156    85.0    140     90            3     1      0   \n",
              "2  18857       1     165    64.0    130     70            3     1      0   \n",
              "3  17623       2     169    82.0    150    100            1     1      0   \n",
              "4  17474       1     156    56.0    100     60            1     1      0   \n",
              "\n",
              "   alco  active  cardio  \n",
              "0     0       1       0  \n",
              "1     0       1       1  \n",
              "2     0       0       1  \n",
              "3     0       1       1  \n",
              "4     0       0       0  "
            ],
            "text/html": [
              "\n",
              "  <div id=\"df-5f1c8a2c-63a1-4e80-b3fd-3ded41500734\">\n",
              "    <div class=\"colab-df-container\">\n",
              "      <div>\n",
              "<style scoped>\n",
              "    .dataframe tbody tr th:only-of-type {\n",
              "        vertical-align: middle;\n",
              "    }\n",
              "\n",
              "    .dataframe tbody tr th {\n",
              "        vertical-align: top;\n",
              "    }\n",
              "\n",
              "    .dataframe thead th {\n",
              "        text-align: right;\n",
              "    }\n",
              "</style>\n",
              "<table border=\"1\" class=\"dataframe\">\n",
              "  <thead>\n",
              "    <tr style=\"text-align: right;\">\n",
              "      <th></th>\n",
              "      <th>age</th>\n",
              "      <th>gender</th>\n",
              "      <th>height</th>\n",
              "      <th>weight</th>\n",
              "      <th>ap_hi</th>\n",
              "      <th>ap_lo</th>\n",
              "      <th>cholesterol</th>\n",
              "      <th>gluc</th>\n",
              "      <th>smoke</th>\n",
              "      <th>alco</th>\n",
              "      <th>active</th>\n",
              "      <th>cardio</th>\n",
              "    </tr>\n",
              "  </thead>\n",
              "  <tbody>\n",
              "    <tr>\n",
              "      <th>0</th>\n",
              "      <td>18393</td>\n",
              "      <td>2</td>\n",
              "      <td>168</td>\n",
              "      <td>62.0</td>\n",
              "      <td>110</td>\n",
              "      <td>80</td>\n",
              "      <td>1</td>\n",
              "      <td>1</td>\n",
              "      <td>0</td>\n",
              "      <td>0</td>\n",
              "      <td>1</td>\n",
              "      <td>0</td>\n",
              "    </tr>\n",
              "    <tr>\n",
              "      <th>1</th>\n",
              "      <td>20228</td>\n",
              "      <td>1</td>\n",
              "      <td>156</td>\n",
              "      <td>85.0</td>\n",
              "      <td>140</td>\n",
              "      <td>90</td>\n",
              "      <td>3</td>\n",
              "      <td>1</td>\n",
              "      <td>0</td>\n",
              "      <td>0</td>\n",
              "      <td>1</td>\n",
              "      <td>1</td>\n",
              "    </tr>\n",
              "    <tr>\n",
              "      <th>2</th>\n",
              "      <td>18857</td>\n",
              "      <td>1</td>\n",
              "      <td>165</td>\n",
              "      <td>64.0</td>\n",
              "      <td>130</td>\n",
              "      <td>70</td>\n",
              "      <td>3</td>\n",
              "      <td>1</td>\n",
              "      <td>0</td>\n",
              "      <td>0</td>\n",
              "      <td>0</td>\n",
              "      <td>1</td>\n",
              "    </tr>\n",
              "    <tr>\n",
              "      <th>3</th>\n",
              "      <td>17623</td>\n",
              "      <td>2</td>\n",
              "      <td>169</td>\n",
              "      <td>82.0</td>\n",
              "      <td>150</td>\n",
              "      <td>100</td>\n",
              "      <td>1</td>\n",
              "      <td>1</td>\n",
              "      <td>0</td>\n",
              "      <td>0</td>\n",
              "      <td>1</td>\n",
              "      <td>1</td>\n",
              "    </tr>\n",
              "    <tr>\n",
              "      <th>4</th>\n",
              "      <td>17474</td>\n",
              "      <td>1</td>\n",
              "      <td>156</td>\n",
              "      <td>56.0</td>\n",
              "      <td>100</td>\n",
              "      <td>60</td>\n",
              "      <td>1</td>\n",
              "      <td>1</td>\n",
              "      <td>0</td>\n",
              "      <td>0</td>\n",
              "      <td>0</td>\n",
              "      <td>0</td>\n",
              "    </tr>\n",
              "  </tbody>\n",
              "</table>\n",
              "</div>\n",
              "      <button class=\"colab-df-convert\" onclick=\"convertToInteractive('df-5f1c8a2c-63a1-4e80-b3fd-3ded41500734')\"\n",
              "              title=\"Convert this dataframe to an interactive table.\"\n",
              "              style=\"display:none;\">\n",
              "        \n",
              "  <svg xmlns=\"http://www.w3.org/2000/svg\" height=\"24px\"viewBox=\"0 0 24 24\"\n",
              "       width=\"24px\">\n",
              "    <path d=\"M0 0h24v24H0V0z\" fill=\"none\"/>\n",
              "    <path d=\"M18.56 5.44l.94 2.06.94-2.06 2.06-.94-2.06-.94-.94-2.06-.94 2.06-2.06.94zm-11 1L8.5 8.5l.94-2.06 2.06-.94-2.06-.94L8.5 2.5l-.94 2.06-2.06.94zm10 10l.94 2.06.94-2.06 2.06-.94-2.06-.94-.94-2.06-.94 2.06-2.06.94z\"/><path d=\"M17.41 7.96l-1.37-1.37c-.4-.4-.92-.59-1.43-.59-.52 0-1.04.2-1.43.59L10.3 9.45l-7.72 7.72c-.78.78-.78 2.05 0 2.83L4 21.41c.39.39.9.59 1.41.59.51 0 1.02-.2 1.41-.59l7.78-7.78 2.81-2.81c.8-.78.8-2.07 0-2.86zM5.41 20L4 18.59l7.72-7.72 1.47 1.35L5.41 20z\"/>\n",
              "  </svg>\n",
              "      </button>\n",
              "      \n",
              "  <style>\n",
              "    .colab-df-container {\n",
              "      display:flex;\n",
              "      flex-wrap:wrap;\n",
              "      gap: 12px;\n",
              "    }\n",
              "\n",
              "    .colab-df-convert {\n",
              "      background-color: #E8F0FE;\n",
              "      border: none;\n",
              "      border-radius: 50%;\n",
              "      cursor: pointer;\n",
              "      display: none;\n",
              "      fill: #1967D2;\n",
              "      height: 32px;\n",
              "      padding: 0 0 0 0;\n",
              "      width: 32px;\n",
              "    }\n",
              "\n",
              "    .colab-df-convert:hover {\n",
              "      background-color: #E2EBFA;\n",
              "      box-shadow: 0px 1px 2px rgba(60, 64, 67, 0.3), 0px 1px 3px 1px rgba(60, 64, 67, 0.15);\n",
              "      fill: #174EA6;\n",
              "    }\n",
              "\n",
              "    [theme=dark] .colab-df-convert {\n",
              "      background-color: #3B4455;\n",
              "      fill: #D2E3FC;\n",
              "    }\n",
              "\n",
              "    [theme=dark] .colab-df-convert:hover {\n",
              "      background-color: #434B5C;\n",
              "      box-shadow: 0px 1px 3px 1px rgba(0, 0, 0, 0.15);\n",
              "      filter: drop-shadow(0px 1px 2px rgba(0, 0, 0, 0.3));\n",
              "      fill: #FFFFFF;\n",
              "    }\n",
              "  </style>\n",
              "\n",
              "      <script>\n",
              "        const buttonEl =\n",
              "          document.querySelector('#df-5f1c8a2c-63a1-4e80-b3fd-3ded41500734 button.colab-df-convert');\n",
              "        buttonEl.style.display =\n",
              "          google.colab.kernel.accessAllowed ? 'block' : 'none';\n",
              "\n",
              "        async function convertToInteractive(key) {\n",
              "          const element = document.querySelector('#df-5f1c8a2c-63a1-4e80-b3fd-3ded41500734');\n",
              "          const dataTable =\n",
              "            await google.colab.kernel.invokeFunction('convertToInteractive',\n",
              "                                                     [key], {});\n",
              "          if (!dataTable) return;\n",
              "\n",
              "          const docLinkHtml = 'Like what you see? Visit the ' +\n",
              "            '<a target=\"_blank\" href=https://colab.research.google.com/notebooks/data_table.ipynb>data table notebook</a>'\n",
              "            + ' to learn more about interactive tables.';\n",
              "          element.innerHTML = '';\n",
              "          dataTable['output_type'] = 'display_data';\n",
              "          await google.colab.output.renderOutput(dataTable, element);\n",
              "          const docLink = document.createElement('div');\n",
              "          docLink.innerHTML = docLinkHtml;\n",
              "          element.appendChild(docLink);\n",
              "        }\n",
              "      </script>\n",
              "    </div>\n",
              "  </div>\n",
              "  "
            ]
          },
          "metadata": {},
          "execution_count": 31
        }
      ]
    },
    {
      "cell_type": "markdown",
      "source": [
        "Cần phân loại ra tập dữ liệu, 1 tập dữ liệu `X` là dữ liệu dùng để huấn luyện và `Y` là dữ liệu `ground truth` của tập dữ liệu `X`. Có nghĩa là với mỗi hàng hàng loạt các giá trị của `X` thì sẽ đạt được kết quả trong `Y`. \n",
        "\n",
        "Từ nội dung này ta có thể huấn luyện mô hình trên `X` và sử dụng kết quả dự đoán được từ `X` và so sánh với `Y` để tính toán được chất lượng phân loại."
      ],
      "metadata": {
        "id": "U59-ziqrTAdy"
      },
      "id": "U59-ziqrTAdy"
    },
    {
      "cell_type": "code",
      "source": [
        "# X được lọc ra từ `chd_data` gồm tất cả các trường dữ liệu từ đầu đến trường `active`\n",
        "# Y chỉ bao gồm trường `cardio`\n",
        "# 2 tập này đều ở dạng numpy\n",
        "# YOUR CODE HERE\n",
        "X=chd_data.drop(['cardio'],axis=1)\n",
        "Y=chd_data['cardio']"
      ],
      "metadata": {
        "id": "jJ9DxpjGRFaR"
      },
      "id": "jJ9DxpjGRFaR",
      "execution_count": null,
      "outputs": []
    },
    {
      "cell_type": "code",
      "source": [],
      "metadata": {
        "id": "qMu1cp5TJjDU"
      },
      "id": "qMu1cp5TJjDU",
      "execution_count": null,
      "outputs": []
    },
    {
      "cell_type": "code",
      "source": [
        "# Sử dụng thư việc scikit-learn (sklearn) để preprocessing dữ liệu\n",
        "from sklearn.preprocessing import LabelBinarizer\n",
        "lb = LabelBinarizer()\n",
        "# Chuyển vị tập Y để dễ dàng trong quá trình nhân ma trận\n",
        "Y = lb.fit_transform(Y)"
      ],
      "metadata": {
        "id": "mNVID3RbG93q"
      },
      "execution_count": null,
      "outputs": [],
      "id": "mNVID3RbG93q"
    },
    {
      "cell_type": "code",
      "source": [
        "# Tiếp tục sử dụng các phương thức của thư viện sklearn\n",
        "# để chọn ra tập train, tập test từ X và Y\n",
        "# Sử dụng `train_test_split` từ `sklearn.model_selection`\n",
        "from sklearn.model_selection import train_test_split\n",
        "\n",
        "# YOUR CODE HERE\n",
        "x_train, x_test, y_train, y_test = train_test_split(X, Y, test_size = 0.3, random_state = 0)\n"
      ],
      "metadata": {
        "id": "EnzTQHY2HwoL"
      },
      "execution_count": null,
      "outputs": [],
      "id": "EnzTQHY2HwoL"
    },
    {
      "cell_type": "code",
      "source": [
        "# Để `công bằng` hơn đối với các trường dữ liệu, ta tiến hành scale các trường dữ liệu với `StandardScaler`\n",
        "from sklearn.preprocessing import StandardScaler\n",
        "Scaler = StandardScaler()\n",
        "x_train_scaler = Scaler.fit_transform(x_train)\n",
        "x_test_scaler = Scaler.transform(x_test)"
      ],
      "metadata": {
        "id": "bwZn2prvIKkQ"
      },
      "execution_count": null,
      "outputs": [],
      "id": "bwZn2prvIKkQ"
    },
    {
      "cell_type": "code",
      "source": [
        "# Hàm dùng để trực quan các dữ liệu bằng biểu đồ\n",
        "def feature_visualizer(features, feature_names):\n",
        "  num_ft = features.shape[1]\n",
        "  fig, ax = plt.subplots(num_ft, 1, figsize=(20, 30))\n",
        "  for i in range(num_ft):\n",
        "    sns.distplot(features[:, i], ax=ax[i], axlabel=feature_names[i])\n",
        "  plt.show()"
      ],
      "metadata": {
        "id": "KcPMrzsvJIzE"
      },
      "execution_count": null,
      "outputs": [],
      "id": "KcPMrzsvJIzE"
    },
    {
      "cell_type": "code",
      "source": [
        "ft_names = chd_data.columns\n",
        "feature_visualizer(x_train_scaler, ft_names)"
      ],
      "metadata": {
        "id": "nj6Pyf-hJOFN",
        "colab": {
          "base_uri": "https://localhost:8080/",
          "height": 1000
        },
        "outputId": "d6d4c5f6-eea1-4a75-c0a1-1107b5750918"
      },
      "execution_count": null,
      "outputs": [
        {
          "output_type": "stream",
          "name": "stderr",
          "text": [
            "<ipython-input-39-6448408a4e61>:6: UserWarning: \n",
            "\n",
            "`distplot` is a deprecated function and will be removed in seaborn v0.14.0.\n",
            "\n",
            "Please adapt your code to use either `displot` (a figure-level function with\n",
            "similar flexibility) or `histplot` (an axes-level function for histograms).\n",
            "\n",
            "For a guide to updating your code to use the new functions, please see\n",
            "https://gist.github.com/mwaskom/de44147ed2974457ad6372750bbe5751\n",
            "\n",
            "  sns.distplot(features[:, i], ax=ax[i], axlabel=feature_names[i])\n",
            "<ipython-input-39-6448408a4e61>:6: UserWarning: \n",
            "\n",
            "`distplot` is a deprecated function and will be removed in seaborn v0.14.0.\n",
            "\n",
            "Please adapt your code to use either `displot` (a figure-level function with\n",
            "similar flexibility) or `histplot` (an axes-level function for histograms).\n",
            "\n",
            "For a guide to updating your code to use the new functions, please see\n",
            "https://gist.github.com/mwaskom/de44147ed2974457ad6372750bbe5751\n",
            "\n",
            "  sns.distplot(features[:, i], ax=ax[i], axlabel=feature_names[i])\n",
            "<ipython-input-39-6448408a4e61>:6: UserWarning: \n",
            "\n",
            "`distplot` is a deprecated function and will be removed in seaborn v0.14.0.\n",
            "\n",
            "Please adapt your code to use either `displot` (a figure-level function with\n",
            "similar flexibility) or `histplot` (an axes-level function for histograms).\n",
            "\n",
            "For a guide to updating your code to use the new functions, please see\n",
            "https://gist.github.com/mwaskom/de44147ed2974457ad6372750bbe5751\n",
            "\n",
            "  sns.distplot(features[:, i], ax=ax[i], axlabel=feature_names[i])\n",
            "<ipython-input-39-6448408a4e61>:6: UserWarning: \n",
            "\n",
            "`distplot` is a deprecated function and will be removed in seaborn v0.14.0.\n",
            "\n",
            "Please adapt your code to use either `displot` (a figure-level function with\n",
            "similar flexibility) or `histplot` (an axes-level function for histograms).\n",
            "\n",
            "For a guide to updating your code to use the new functions, please see\n",
            "https://gist.github.com/mwaskom/de44147ed2974457ad6372750bbe5751\n",
            "\n",
            "  sns.distplot(features[:, i], ax=ax[i], axlabel=feature_names[i])\n",
            "<ipython-input-39-6448408a4e61>:6: UserWarning: \n",
            "\n",
            "`distplot` is a deprecated function and will be removed in seaborn v0.14.0.\n",
            "\n",
            "Please adapt your code to use either `displot` (a figure-level function with\n",
            "similar flexibility) or `histplot` (an axes-level function for histograms).\n",
            "\n",
            "For a guide to updating your code to use the new functions, please see\n",
            "https://gist.github.com/mwaskom/de44147ed2974457ad6372750bbe5751\n",
            "\n",
            "  sns.distplot(features[:, i], ax=ax[i], axlabel=feature_names[i])\n",
            "<ipython-input-39-6448408a4e61>:6: UserWarning: \n",
            "\n",
            "`distplot` is a deprecated function and will be removed in seaborn v0.14.0.\n",
            "\n",
            "Please adapt your code to use either `displot` (a figure-level function with\n",
            "similar flexibility) or `histplot` (an axes-level function for histograms).\n",
            "\n",
            "For a guide to updating your code to use the new functions, please see\n",
            "https://gist.github.com/mwaskom/de44147ed2974457ad6372750bbe5751\n",
            "\n",
            "  sns.distplot(features[:, i], ax=ax[i], axlabel=feature_names[i])\n",
            "<ipython-input-39-6448408a4e61>:6: UserWarning: \n",
            "\n",
            "`distplot` is a deprecated function and will be removed in seaborn v0.14.0.\n",
            "\n",
            "Please adapt your code to use either `displot` (a figure-level function with\n",
            "similar flexibility) or `histplot` (an axes-level function for histograms).\n",
            "\n",
            "For a guide to updating your code to use the new functions, please see\n",
            "https://gist.github.com/mwaskom/de44147ed2974457ad6372750bbe5751\n",
            "\n",
            "  sns.distplot(features[:, i], ax=ax[i], axlabel=feature_names[i])\n",
            "<ipython-input-39-6448408a4e61>:6: UserWarning: \n",
            "\n",
            "`distplot` is a deprecated function and will be removed in seaborn v0.14.0.\n",
            "\n",
            "Please adapt your code to use either `displot` (a figure-level function with\n",
            "similar flexibility) or `histplot` (an axes-level function for histograms).\n",
            "\n",
            "For a guide to updating your code to use the new functions, please see\n",
            "https://gist.github.com/mwaskom/de44147ed2974457ad6372750bbe5751\n",
            "\n",
            "  sns.distplot(features[:, i], ax=ax[i], axlabel=feature_names[i])\n",
            "<ipython-input-39-6448408a4e61>:6: UserWarning: \n",
            "\n",
            "`distplot` is a deprecated function and will be removed in seaborn v0.14.0.\n",
            "\n",
            "Please adapt your code to use either `displot` (a figure-level function with\n",
            "similar flexibility) or `histplot` (an axes-level function for histograms).\n",
            "\n",
            "For a guide to updating your code to use the new functions, please see\n",
            "https://gist.github.com/mwaskom/de44147ed2974457ad6372750bbe5751\n",
            "\n",
            "  sns.distplot(features[:, i], ax=ax[i], axlabel=feature_names[i])\n",
            "<ipython-input-39-6448408a4e61>:6: UserWarning: \n",
            "\n",
            "`distplot` is a deprecated function and will be removed in seaborn v0.14.0.\n",
            "\n",
            "Please adapt your code to use either `displot` (a figure-level function with\n",
            "similar flexibility) or `histplot` (an axes-level function for histograms).\n",
            "\n",
            "For a guide to updating your code to use the new functions, please see\n",
            "https://gist.github.com/mwaskom/de44147ed2974457ad6372750bbe5751\n",
            "\n",
            "  sns.distplot(features[:, i], ax=ax[i], axlabel=feature_names[i])\n",
            "<ipython-input-39-6448408a4e61>:6: UserWarning: \n",
            "\n",
            "`distplot` is a deprecated function and will be removed in seaborn v0.14.0.\n",
            "\n",
            "Please adapt your code to use either `displot` (a figure-level function with\n",
            "similar flexibility) or `histplot` (an axes-level function for histograms).\n",
            "\n",
            "For a guide to updating your code to use the new functions, please see\n",
            "https://gist.github.com/mwaskom/de44147ed2974457ad6372750bbe5751\n",
            "\n",
            "  sns.distplot(features[:, i], ax=ax[i], axlabel=feature_names[i])\n"
          ]
        },
        {
          "output_type": "display_data",
          "data": {
            "text/plain": [
              "<Figure size 2000x3000 with 11 Axes>"
            ],
            "image/png": "[encoded data removed]"
          },
          "metadata": {}
        }
      ],
      "id": "nj6Pyf-hJOFN"
    },
    {
      "cell_type": "code",
      "source": [
        "# Thực hiện sử dụng mô hình Logistic Regression được cung cấp bởi sklearn\n",
        "# Và tiến hành huấn luyện mô hình dựa trên các giá trị đã chuẩn bị ở trên\n",
        "from sklearn.linear_model import LogisticRegression\n",
        "# YOUR CODE HERE\n",
        "\n",
        "lr = LogisticRegression()\n",
        "lr.fit(x_train_scaler,y_train)"
      ],
      "metadata": {
        "id": "hRXJz2_-bDw1",
        "colab": {
          "base_uri": "https://localhost:8080/",
          "height": 131
        },
        "outputId": "6826810b-bc19-46a3-c42b-ac977dbe923b"
      },
      "id": "hRXJz2_-bDw1",
      "execution_count": null,
      "outputs": [
        {
          "output_type": "stream",
          "name": "stderr",
          "text": [
            "/usr/local/lib/python3.10/dist-packages/sklearn/utils/validation.py:1143: DataConversionWarning: A column-vector y was passed when a 1d array was expected. Please change the shape of y to (n_samples, ), for example using ravel().\n",
            "  y = column_or_1d(y, warn=True)\n"
          ]
        },
        {
          "output_type": "execute_result",
          "data": {
            "text/plain": [
              "LogisticRegression()"
            ],
            "text/html": [
              "<style>#sk-container-id-1 {color: black;background-color: white;}#sk-container-id-1 pre{padding: 0;}#sk-container-id-1 div.sk-toggleable {background-color: white;}#sk-container-id-1 label.sk-toggleable__label {cursor: pointer;display: block;width: 100%;margin-bottom: 0;padding: 0.3em;box-sizing: border-box;text-align: center;}#sk-container-id-1 label.sk-toggleable__label-arrow:before {content: \"▸\";float: left;margin-right: 0.25em;color: #696969;}#sk-container-id-1 label.sk-toggleable__label-arrow:hover:before {color: black;}#sk-container-id-1 div.sk-estimator:hover label.sk-toggleable__label-arrow:before {color: black;}#sk-container-id-1 div.sk-toggleable__content {max-height: 0;max-width: 0;overflow: hidden;text-align: left;background-color: #f0f8ff;}#sk-container-id-1 div.sk-toggleable__content pre {margin: 0.2em;color: black;border-radius: 0.25em;background-color: #f0f8ff;}#sk-container-id-1 input.sk-toggleable__control:checked~div.sk-toggleable__content {max-height: 200px;max-width: 100%;overflow: auto;}#sk-container-id-1 input.sk-toggleable__control:checked~label.sk-toggleable__label-arrow:before {content: \"▾\";}#sk-container-id-1 div.sk-estimator input.sk-toggleable__control:checked~label.sk-toggleable__label {background-color: #d4ebff;}#sk-container-id-1 div.sk-label input.sk-toggleable__control:checked~label.sk-toggleable__label {background-color: #d4ebff;}#sk-container-id-1 input.sk-hidden--visually {border: 0;clip: rect(1px 1px 1px 1px);clip: rect(1px, 1px, 1px, 1px);height: 1px;margin: -1px;overflow: hidden;padding: 0;position: absolute;width: 1px;}#sk-container-id-1 div.sk-estimator {font-family: monospace;background-color: #f0f8ff;border: 1px dotted black;border-radius: 0.25em;box-sizing: border-box;margin-bottom: 0.5em;}#sk-container-id-1 div.sk-estimator:hover {background-color: #d4ebff;}#sk-container-id-1 div.sk-parallel-item::after {content: \"\";width: 100%;border-bottom: 1px solid gray;flex-grow: 1;}#sk-container-id-1 div.sk-label:hover label.sk-toggleable__label {background-color: #d4ebff;}#sk-container-id-1 div.sk-serial::before {content: \"\";position: absolute;border-left: 1px solid gray;box-sizing: border-box;top: 0;bottom: 0;left: 50%;z-index: 0;}#sk-container-id-1 div.sk-serial {display: flex;flex-direction: column;align-items: center;background-color: white;padding-right: 0.2em;padding-left: 0.2em;position: relative;}#sk-container-id-1 div.sk-item {position: relative;z-index: 1;}#sk-container-id-1 div.sk-parallel {display: flex;align-items: stretch;justify-content: center;background-color: white;position: relative;}#sk-container-id-1 div.sk-item::before, #sk-container-id-1 div.sk-parallel-item::before {content: \"\";position: absolute;border-left: 1px solid gray;box-sizing: border-box;top: 0;bottom: 0;left: 50%;z-index: -1;}#sk-container-id-1 div.sk-parallel-item {display: flex;flex-direction: column;z-index: 1;position: relative;background-color: white;}#sk-container-id-1 div.sk-parallel-item:first-child::after {align-self: flex-end;width: 50%;}#sk-container-id-1 div.sk-parallel-item:last-child::after {align-self: flex-start;width: 50%;}#sk-container-id-1 div.sk-parallel-item:only-child::after {width: 0;}#sk-container-id-1 div.sk-dashed-wrapped {border: 1px dashed gray;margin: 0 0.4em 0.5em 0.4em;box-sizing: border-box;padding-bottom: 0.4em;background-color: white;}#sk-container-id-1 div.sk-label label {font-family: monospace;font-weight: bold;display: inline-block;line-height: 1.2em;}#sk-container-id-1 div.sk-label-container {text-align: center;}#sk-container-id-1 div.sk-container {/* jupyter's `normalize.less` sets `[hidden] { display: none; }` but bootstrap.min.css set `[hidden] { display: none !important; }` so we also need the `!important` here to be able to override the default hidden behavior on the sphinx rendered scikit-learn.org. See: https://github.com/scikit-learn/scikit-learn/issues/21755 */display: inline-block !important;position: relative;}#sk-container-id-1 div.sk-text-repr-fallback {display: none;}</style><div id=\"sk-container-id-1\" class=\"sk-top-container\"><div class=\"sk-text-repr-fallback\"><pre>LogisticRegression()</pre><b>In a Jupyter environment, please rerun this cell to show the HTML representation or trust the notebook. <br />On GitHub, the HTML representation is unable to render, please try loading this page with nbviewer.org.</b></div><div class=\"sk-container\" hidden><div class=\"sk-item\"><div class=\"sk-estimator sk-toggleable\"><input class=\"sk-toggleable__control sk-hidden--visually\" id=\"sk-estimator-id-1\" type=\"checkbox\" checked><label for=\"sk-estimator-id-1\" class=\"sk-toggleable__label sk-toggleable__label-arrow\">LogisticRegression</label><div class=\"sk-toggleable__content\"><pre>LogisticRegression()</pre></div></div></div></div></div>"
            ]
          },
          "metadata": {},
          "execution_count": 47
        }
      ]
    },
    {
      "cell_type": "code",
      "source": [
        "# Sử dụng phương thức `predict` để dự đoán các giá trị `y_predict`\n",
        "# YOUR CODE HERE\n",
        "y_predict = lr.predict(x_test_scaler)\n"
      ],
      "metadata": {
        "id": "miZ20WqEbKPs"
      },
      "id": "miZ20WqEbKPs",
      "execution_count": null,
      "outputs": []
    },
    {
      "cell_type": "markdown",
      "source": [
        "Cuối cùng, ta thực hiện đánh giá mô hình Logistic Regression thông qua các score `accuracy`, `precision`, `recall`, `f1`. Sinh viên cần tìm hiểu các thông số này được tính toán như thế nào? Các thông số này có ý nghĩa ra sao?"
      ],
      "metadata": {
        "id": "ay0q5rLT0lTR"
      },
      "id": "ay0q5rLT0lTR"
    },
    {
      "cell_type": "code",
      "source": [
        "# Tiến hành import và sử dụng in ra các score này để đánh giá mô hình\n",
        "from sklearn.metrics import accuracy_score, precision_score, recall_score, f1_score\n",
        "print(accuracy_score(y_test, y_predict))\n",
        "print(precision_score(y_test, y_predict))\n",
        "print(recall_score(y_test, y_predict))\n",
        "print(f1_score(y_test, y_predict))"
      ],
      "metadata": {
        "id": "MQF-CtQpbtzu",
        "colab": {
          "base_uri": "https://localhost:8080/"
        },
        "outputId": "51c0a191-a142-442a-d5d9-1d4abddbc6f3"
      },
      "id": "MQF-CtQpbtzu",
      "execution_count": null,
      "outputs": [
        {
          "output_type": "stream",
          "name": "stdout",
          "text": [
            "0.7211428571428572\n",
            "0.7431105479885968\n",
            "0.6727846286205907\n",
            "0.7062010836845274\n"
          ]
        }
      ]
    },
    {
      "cell_type": "code",
      "source": [
        "# Ngoài ra, ta có thể thực hiện kiểm tra các thông số này qua `classification_report`\n",
        "# Tìm cách import và sử dụng phương thức này\n",
        "# YOUR CODE HERE\n",
        "from sklearn.metrics import classification_report\n",
        "\n",
        "report = classification_report(y_test, y_predict)\n",
        "\n",
        "print(report)"
      ],
      "metadata": {
        "id": "_A2P7QTzbz0Q",
        "colab": {
          "base_uri": "https://localhost:8080/"
        },
        "outputId": "778bb58f-bfdc-46d2-940d-74eaae5c0b22"
      },
      "id": "_A2P7QTzbz0Q",
      "execution_count": null,
      "outputs": [
        {
          "output_type": "stream",
          "name": "stdout",
          "text": [
            "              precision    recall  f1-score   support\n",
            "\n",
            "           0       0.70      0.77      0.73     10539\n",
            "           1       0.74      0.67      0.71     10461\n",
            "\n",
            "    accuracy                           0.72     21000\n",
            "   macro avg       0.72      0.72      0.72     21000\n",
            "weighted avg       0.72      0.72      0.72     21000\n",
            "\n"
          ]
        }
      ]
    },
    {
      "cell_type": "code",
      "source": [
        "# Cuối cùng, ta có thể xem `confusion_matrix` dưới dạng `heatmap`\n",
        "# Tìm cách import và sử dụng phương thức này\n",
        "# YOUR CODE HERE\n",
        "from sklearn.metrics import confusion_matrix\n",
        "\n",
        "cm = confusion_matrix(y_test, y_predict)\n",
        "\n",
        "\n",
        "plt.figure()\n",
        "sns.heatmap(cm, annot=True)\n",
        "plt.show()"
      ],
      "metadata": {
        "id": "guDRfA2Fb39b",
        "colab": {
          "base_uri": "https://localhost:8080/",
          "height": 430
        },
        "outputId": "e31731c4-9c2d-4793-ccdd-2240e3952b6a"
      },
      "id": "guDRfA2Fb39b",
      "execution_count": null,
      "outputs": [
        {
          "output_type": "display_data",
          "data": {
            "text/plain": [
              "<Figure size 640x480 with 2 Axes>"
            ],
            "image/png": "[encoded data removed]"
          },
          "metadata": {}
        }
      ]
    },
    {
      "cell_type": "markdown",
      "source": [
        "HẾT RỒI, CHÚC MỪNG BẠN ĐÃ HOÀN THÀNH."
      ],
      "metadata": {
        "id": "6XXzJWRTTQc7"
      },
      "id": "6XXzJWRTTQc7"
    }
  ],
  "metadata": {
    "kernelspec": {
      "display_name": "Python 3 (ipykernel)",
      "language": "python",
      "name": "python3"
    },
    "language_info": {
      "codemirror_mode": {
        "name": "ipython",
        "version": 3
      },
      "file_extension": ".py",
      "mimetype": "text/x-python",
      "name": "python",
      "nbconvert_exporter": "python",
      "pygments_lexer": "ipython3",
      "version": "3.9.15"
    },
    "colab": {
      "provenance": []
    }
  },
  "nbformat": 4,
  "nbformat_minor": 5
}